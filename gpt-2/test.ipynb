{
 "cells": [
  {
   "cell_type": "code",
   "execution_count": 1,
   "metadata": {},
   "outputs": [
    {
     "data": {
      "text/plain": [
       "[48.0, 12.0, 14.0, 12.0]"
      ]
     },
     "execution_count": 1,
     "metadata": {},
     "output_type": "execute_result"
    }
   ],
   "source": [
    "import struct\n",
    "def bf16_to_float_block(bf16_block):\n",
    "    # 左移16位填充为32位表示\n",
    "    float_block = []\n",
    "    for bf16 in bf16_block:\n",
    "        fp32_bits = bf16 << 16\n",
    "        float_block.append(struct.unpack('>f', struct.pack('>I', fp32_bits))[0])\n",
    "    # 转换为浮点数\n",
    "    return float_block\n",
    "\n",
    "bf16_to_float_block([16960, 16704, 16736, 16704])"
   ]
  },
  {
   "cell_type": "code",
   "execution_count": 3,
   "metadata": {},
   "outputs": [
    {
     "data": {
      "text/plain": [
       "[99.0, 68.0]"
      ]
     },
     "execution_count": 3,
     "metadata": {},
     "output_type": "execute_result"
    }
   ],
   "source": [
    "bf16_to_float_block([17094, 17032])"
   ]
  },
  {
   "cell_type": "code",
   "execution_count": 4,
   "metadata": {},
   "outputs": [
    {
     "data": {
      "text/plain": [
       "'01'"
      ]
     },
     "execution_count": 4,
     "metadata": {},
     "output_type": "execute_result"
    }
   ],
   "source": [
    "num = 1\n",
    "bin(num)[2:].zfill(2)"
   ]
  },
  {
   "cell_type": "code",
   "execution_count": 24,
   "metadata": {},
   "outputs": [
    {
     "data": {
      "text/plain": [
       "1"
      ]
     },
     "execution_count": 24,
     "metadata": {},
     "output_type": "execute_result"
    }
   ],
   "source": [
    "queue = [1, 2, 3]\n",
    "queue.pop(0)"
   ]
  },
  {
   "cell_type": "code",
   "execution_count": 21,
   "metadata": {},
   "outputs": [
    {
     "name": "stdout",
     "output_type": "stream",
     "text": [
      "[[], []]\n",
      "[[1], [1]]\n"
     ]
    },
    {
     "data": {
      "text/plain": [
       "[[0], []]"
      ]
     },
     "execution_count": 21,
     "metadata": {},
     "output_type": "execute_result"
    }
   ],
   "source": [
    "a = [[]] * 2\n",
    "print(a)\n",
    "a[0].append(1)\n",
    "print(a)\n",
    "b = [[0], []]\n",
    "b\n"
   ]
  },
  {
   "cell_type": "code",
   "execution_count": null,
   "metadata": {},
   "outputs": [
    {
     "name": "stdout",
     "output_type": "stream",
     "text": [
      "Values: [1 1]\n",
      "Column indices: [2 1]\n",
      "Row pointers: [0 1 1 2]\n"
     ]
    }
   ],
   "source": [
    "import numpy as np\n",
    "from scipy.sparse import csr_matrix\n",
    "\n",
    "D = np.array([[0, 0 ,1], [0, 0, 0], [0, 1, 0]])\n",
    "csr = csr_matrix(D)\n",
    "\n",
    "print(\"Values:\", csr.data)\n",
    "print(\"Column indices:\", csr.indices)\n",
    "print(\"Row pointers:\", csr.indptr)"
   ]
  }
 ],
 "metadata": {
  "kernelspec": {
   "display_name": "cuda",
   "language": "python",
   "name": "python3"
  },
  "language_info": {
   "codemirror_mode": {
    "name": "ipython",
    "version": 3
   },
   "file_extension": ".py",
   "mimetype": "text/x-python",
   "name": "python",
   "nbconvert_exporter": "python",
   "pygments_lexer": "ipython3",
   "version": "3.10.14"
  }
 },
 "nbformat": 4,
 "nbformat_minor": 2
}
