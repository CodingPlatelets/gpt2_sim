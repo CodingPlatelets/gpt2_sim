{
 "cells": [
  {
   "cell_type": "code",
   "execution_count": 1,
   "metadata": {},
   "outputs": [
    {
     "data": {
      "text/plain": [
       "[48.0, 12.0, 14.0, 12.0]"
      ]
     },
     "execution_count": 1,
     "metadata": {},
     "output_type": "execute_result"
    }
   ],
   "source": [
    "import struct\n",
    "def bf16_to_float_block(bf16_block):\n",
    "    # 左移16位填充为32位表示\n",
    "    float_block = []\n",
    "    for bf16 in bf16_block:\n",
    "        fp32_bits = bf16 << 16\n",
    "        float_block.append(struct.unpack('>f', struct.pack('>I', fp32_bits))[0])\n",
    "    # 转换为浮点数\n",
    "    return float_block\n",
    "\n",
    "bf16_to_float_block([16960, 16704, 16736, 16704])"
   ]
  },
  {
   "cell_type": "code",
   "execution_count": 3,
   "metadata": {},
   "outputs": [
    {
     "data": {
      "text/plain": [
       "[99.0, 68.0]"
      ]
     },
     "execution_count": 3,
     "metadata": {},
     "output_type": "execute_result"
    }
   ],
   "source": [
    "bf16_to_float_block([17094, 17032])"
   ]
  }
 ],
 "metadata": {
  "kernelspec": {
   "display_name": "pytorch",
   "language": "python",
   "name": "python3"
  },
  "language_info": {
   "codemirror_mode": {
    "name": "ipython",
    "version": 3
   },
   "file_extension": ".py",
   "mimetype": "text/x-python",
   "name": "python",
   "nbconvert_exporter": "python",
   "pygments_lexer": "ipython3",
   "version": "3.10.14"
  }
 },
 "nbformat": 4,
 "nbformat_minor": 2
}
